{
 "cells": [
  {
   "attachments": {},
   "cell_type": "markdown",
   "metadata": {},
   "source": [
    "# Debug for metric from saved D matrices\n",
    "\n",
    "---\n",
    "\n",
    "https://github.com/stevenygd/PointFlow/issues/26\n",
    "\n",
    "from the point flow code output CD and paper, the reported metric is:\n",
    "- lgan_mmd-CD\n",
    "- lgan_cov-CD\n",
    "- 1-NN-CD-acc\n"
   ]
  },
  {
   "cell_type": "code",
   "execution_count": 1,
   "metadata": {},
   "outputs": [],
   "source": [
    "import torch, numpy as np\n",
    "import os, os.path as osp\n",
    "from pprint import pprint"
   ]
  },
  {
   "attachments": {},
   "cell_type": "markdown",
   "metadata": {},
   "source": [
    "## Copy from PointFlow"
   ]
  },
  {
   "cell_type": "code",
   "execution_count": 2,
   "metadata": {},
   "outputs": [],
   "source": [
    "def lgan_mmd_cov(all_dist):\n",
    "    N_sample, N_ref = all_dist.size(0), all_dist.size(1)\n",
    "    min_val_fromsmp, min_idx = torch.min(all_dist, dim=1)\n",
    "    min_val, _ = torch.min(all_dist, dim=0)\n",
    "    mmd = min_val.mean()\n",
    "    mmd_smp = min_val_fromsmp.mean()\n",
    "    cov = float(min_idx.unique().view(-1).size(0)) / float(N_ref)\n",
    "    cov = torch.tensor(cov).to(all_dist)\n",
    "    return {\n",
    "        'lgan_mmd': mmd,\n",
    "        'lgan_cov': cov,\n",
    "        'lgan_mmd_smp': mmd_smp,\n",
    "    }\n",
    "\n",
    "# Adapted from https://github.com/xuqiantong/GAN-Metrics/blob/master/framework/metric.py\n",
    "def knn(Mxx, Mxy, Myy, k, sqrt=False):\n",
    "    n0 = Mxx.size(0)\n",
    "    n1 = Myy.size(0)\n",
    "    label = torch.cat((torch.ones(n0), torch.zeros(n1))).to(Mxx)\n",
    "    M = torch.cat((torch.cat((Mxx, Mxy), 1), torch.cat((Mxy.transpose(0, 1), Myy), 1)), 0)\n",
    "    if sqrt:\n",
    "        M = M.abs().sqrt()\n",
    "    INFINITY = float('inf')\n",
    "    val, idx = (M + torch.diag(INFINITY * torch.ones(n0 + n1).to(Mxx))).topk(k, 0, False)\n",
    "\n",
    "    count = torch.zeros(n0 + n1).to(Mxx)\n",
    "    for i in range(0, k):\n",
    "        count = count + label.index_select(0, idx[i])\n",
    "    pred = torch.ge(count, (float(k) / 2) * torch.ones(n0 + n1).to(Mxx)).float()\n",
    "\n",
    "    s = {\n",
    "        'tp': (pred * label).sum(),\n",
    "        'fp': (pred * (1 - label)).sum(),\n",
    "        'fn': ((1 - pred) * label).sum(),\n",
    "        'tn': ((1 - pred) * (1 - label)).sum(),\n",
    "    }\n",
    "\n",
    "    s.update({\n",
    "        'precision': s['tp'] / (s['tp'] + s['fp'] + 1e-10),\n",
    "        'recall': s['tp'] / (s['tp'] + s['fn'] + 1e-10),\n",
    "        'acc_t': s['tp'] / (s['tp'] + s['fn'] + 1e-10),\n",
    "        'acc_f': s['tn'] / (s['tn'] + s['fp'] + 1e-10),\n",
    "        'acc': torch.eq(label, pred).float().mean(),\n",
    "    })\n",
    "    # print(pred)\n",
    "    # print(label)\n",
    "    return s\n",
    "\n",
    "def eval_instantiation_distance(gen_name, ref_name, N_states=10, N_pcl=2048):\n",
    "    results = {}\n",
    "    rs_fn = f\"../log/test/ID_D_matrix/{gen_name}_{ref_name}_{N_states}_{N_pcl}.npz\"\n",
    "    rr_fn = f\"../log/test/ID_D_matrix/{ref_name}_{ref_name}_{N_states}_{N_pcl}.npz\"\n",
    "    ss_fn = f\"../log/test/ID_D_matrix/{gen_name}_{gen_name}_{N_states}_{N_pcl}.npz\"\n",
    "    M_rs = torch.from_numpy(np.load(rs_fn)[\"D\"])\n",
    "    M_rr = torch.from_numpy(np.load(rr_fn)[\"D\"])\n",
    "    M_ss = torch.from_numpy(np.load(ss_fn)[\"D\"])\n",
    "    ret = lgan_mmd_cov(M_rs.t())\n",
    "    results.update({\n",
    "        \"%s-ID\" % k: v for k, v in ret.items()\n",
    "    })\n",
    "    ret = knn(M_rr, M_rs, M_ss, 1, sqrt=False)\n",
    "    results.update({\n",
    "        \"1-NN-ID-%s\" % k: v for k, v in ret.items() if 'acc' in k\n",
    "    })\n",
    "    # print(M_rs[:5,:5])\n",
    "    print(gen_name, ref_name)\n",
    "    # pprint(results)\n",
    "    final_results = {\n",
    "        \"1-NN-ID-acc\": results[\"1-NN-ID-acc\"],\n",
    "        \"lgan_mmd-ID\": results[\"lgan_mmd-ID\"],\n",
    "        \"lgam_cov-ID\": results[\"lgan_cov-ID\"],\n",
    "    }\n",
    "    # final_results = {\n",
    "    #     \"1-NN-ID-acc\": float(results[\"1-NN-ID-acc\"]),\n",
    "    #     \"lgan_mmd-ID\": float(results[\"lgan_mmd-ID\"]),\n",
    "    #     \"lgam_cov-ID\": float(results[\"lgan_cov-ID\"]),\n",
    "    # }\n",
    "    pprint(final_results)\n",
    "    return"
   ]
  },
  {
   "cell_type": "markdown",
   "metadata": {},
   "source": [
    "for rebuttal"
   ]
  },
  {
   "cell_type": "code",
   "execution_count": 3,
   "metadata": {},
   "outputs": [
    {
     "name": "stdout",
     "output_type": "stream",
     "text": [
      "K_8_cate_all_v6.1_5455 K_8_cate_all_gt\n",
      "{'1-NN-ID-acc': tensor(0.5690),\n",
      " 'lgam_cov-ID': tensor(0.4944),\n",
      " 'lgan_mmd-ID': tensor(0.0268)}\n",
      "K_8_cate_all_v6.1_5455_retrieval K_8_cate_all_gt\n",
      "{'1-NN-ID-acc': tensor(0.5412),\n",
      " 'lgam_cov-ID': tensor(0.5234),\n",
      " 'lgan_mmd-ID': tensor(0.0215)}\n"
     ]
    }
   ],
   "source": [
    "N_states = 10\n",
    "N_pcl = 2048\n",
    "gen = \"K_8_cate_all_v6.1_5455\"\n",
    "ref = \"K_8_cate_all_gt\"\n",
    "eval_instantiation_distance(gen, ref, N_states, N_pcl)\n",
    "gen = \"K_8_cate_all_v6.1_5455_retrieval\"\n",
    "eval_instantiation_distance(gen, ref, N_states, N_pcl)"
   ]
  }
 ],
 "metadata": {
  "kernelspec": {
   "display_name": "flatwhite",
   "language": "python",
   "name": "python3"
  },
  "language_info": {
   "codemirror_mode": {
    "name": "ipython",
    "version": 3
   },
   "file_extension": ".py",
   "mimetype": "text/x-python",
   "name": "python",
   "nbconvert_exporter": "python",
   "pygments_lexer": "ipython3",
   "version": "3.9.18"
  },
  "orig_nbformat": 4
 },
 "nbformat": 4,
 "nbformat_minor": 2
}
