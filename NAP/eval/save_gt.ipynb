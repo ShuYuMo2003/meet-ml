{
 "cells": [
  {
   "attachments": {},
   "cell_type": "markdown",
   "metadata": {},
   "source": [
    "# Standalone Eval"
   ]
  },
  {
   "attachments": {},
   "cell_type": "markdown",
   "metadata": {},
   "source": [
    "## 1. Here save the gt in compact format\n",
    "\n",
    "in original scale!"
   ]
  },
  {
   "cell_type": "code",
   "execution_count": 1,
   "metadata": {},
   "outputs": [],
   "source": [
    "import sys, os, os.path as osp\n",
    "\n",
    "sys.path.append(osp.dirname(os.getcwd()))\n",
    "from matplotlib.axes._axes import _log as matplotlib_axes_logger\n",
    "\n",
    "matplotlib_axes_logger.setLevel(\"ERROR\")\n",
    "import yaml, numpy as np, trimesh, imageio\n",
    "from dataset import get_dataset\n",
    "from init import setup_seed\n",
    "from tqdm import tqdm\n",
    "import pickle\n",
    "\n",
    "from object_utils.arti_graph_utils_v3 import get_G_from_VE\n",
    "from object_utils.arti_viz_utils import append_mesh_to_G, viz_G_topology, viz_G\n",
    "import logging\n",
    "\n",
    "setup_seed(12345)\n",
    "\n",
    "logger = logging.getLogger(\"trimesh\")\n",
    "logger.setLevel(logging.ERROR)\n"
   ]
  },
  {
   "cell_type": "code",
   "execution_count": 2,
   "metadata": {},
   "outputs": [],
   "source": [
    "cfg_fn = \"../configs/nap/v6.1_diffusion.yaml\"\n",
    "with open(cfg_fn, \"r\") as f:\n",
    "    cfg = yaml.full_load(f)\n",
    "cfg[\"root\"] = osp.dirname(os.getcwd())\n",
    "cfg[\"modes\"] = [\"train\", \"val\", \"test\"]\n",
    "cfg[\"dataset\"][\"dataset_proportion\"] = [1.0, 1.0, 1.0]\n",
    "# cfg[\"dataset\"][\"data_root\"] = osp.join(\"..\", cfg[\"dataset\"][\"data_root\"])\n",
    "cfg[\"dataset\"][\"split_path\"] = osp.join(\"..\", cfg[\"dataset\"][\"split_path\"])\n",
    "cfg[\"dataset\"][\"embedding_index_file\"] = osp.join(\"..\", cfg[\"dataset\"][\"embedding_index_file\"])\n",
    "cfg[\"dataset\"][\"embedding_precompute_path\"] = osp.join(\"..\", cfg[\"dataset\"][\"embedding_precompute_path\"])\n",
    "\n",
    "cates = cfg[\"dataset\"][\"cates\"]\n",
    "K = cfg[\"dataset\"][\"max_K\"]"
   ]
  },
  {
   "cell_type": "code",
   "execution_count": 3,
   "metadata": {},
   "outputs": [
    {
     "name": "stderr",
     "output_type": "stream",
     "text": [
      "100%|██████████| 2340/2340 [00:02<00:00, 964.81it/s] "
     ]
    },
    {
     "name": "stdout",
     "output_type": "stream",
     "text": [
      "K=8 cate=['all'] test dataset has 449 instances\n"
     ]
    },
    {
     "name": "stderr",
     "output_type": "stream",
     "text": [
      "\n"
     ]
    }
   ],
   "source": [
    "dataclass = get_dataset(cfg)\n",
    "test_dataset = dataclass(cfg, \"test\")\n",
    "print(f\"K={K} cate={cates} test dataset has {len(test_dataset)} instances\")"
   ]
  },
  {
   "cell_type": "code",
   "execution_count": 4,
   "metadata": {},
   "outputs": [
    {
     "name": "stdout",
     "output_type": "stream",
     "text": [
      "../log/test/G/K_8_cate_all_gt\n"
     ]
    }
   ],
   "source": [
    "DST = f\"../log/test/G/K_{K}_cate_{''.join(cates)}_gt\"\n",
    "DST_viz = f\"../log/test/Viz/K_{K}_cate_{''.join(cates)}_gt\"\n",
    "GT_MESH_ROOT =  \"../data/partnet_mobility_graph_mesh\"\n",
    "os.makedirs(DST, exist_ok=True)\n",
    "os.makedirs(DST_viz, exist_ok=True)\n",
    "print(DST)"
   ]
  },
  {
   "cell_type": "code",
   "execution_count": 5,
   "metadata": {},
   "outputs": [],
   "source": [
    "def save(p):\n",
    "    data, meta, dst = p\n",
    "    fn = osp.join(dst, f\"{meta['partnet-m-id']}.pkl\")\n",
    "    mesh_name_list = meta[\"mesh_name_list\"]\n",
    "    gt_mesh_list = [\n",
    "        trimesh.load(osp.join(GT_MESH_ROOT, mesh_name + \".off\"), force=\"mesh\")\n",
    "        for mesh_name in mesh_name_list\n",
    "        if len(mesh_name) > 0\n",
    "    ]\n",
    "\n",
    "    V, E = data[\"V\"], data[\"E\"]\n",
    "    # ! warning, here should multiply back to the original scale, the returned is scaled\n",
    "    V_scale, E_scale = data[\"V_scale\"], data[\"E_scale\"]\n",
    "    V = V * V_scale\n",
    "    E = E * E_scale\n",
    "    v_mask = V[:, 0] > 0\n",
    "    assert v_mask.sum() == len(gt_mesh_list)\n",
    "    assert v_mask[: len(gt_mesh_list)].all()\n",
    "\n",
    "    G = get_G_from_VE(V.cpu().numpy(), E.cpu().numpy())\n",
    "    G = append_mesh_to_G(G, gt_mesh_list, key=\"mesh\") # with key mesh\n",
    "\n",
    "    # viz_topo = viz_G_topology(G)\n",
    "    # imageio.imwrite(osp.join(DST_viz, f\"{meta['partnet-m-id']}.png\"), viz_topo)\n",
    "    # viz_list = viz_G(G, cam_dist=3.0, viz_frame_N=4, shape=(128, 128))\n",
    "    # imageio.mimsave(osp.join(DST_viz, f\"{meta['partnet-m-id']}.gif\"), viz_list, fps=10)\n",
    "    \n",
    "    pickle.dump(G, open(fn, \"wb\"))\n",
    "    data = pickle.load(open(fn, \"rb\"))\n",
    "    return\n"
   ]
  },
  {
   "cell_type": "code",
   "execution_count": 6,
   "metadata": {},
   "outputs": [
    {
     "name": "stderr",
     "output_type": "stream",
     "text": [
      "100%|██████████| 449/449 [00:00<00:00, 985.92it/s] \n"
     ]
    }
   ],
   "source": [
    "p_list = []\n",
    "for data, meta in tqdm(test_dataset):\n",
    "    # save((data, meta))\n",
    "    p_list.append((data, meta, DST))\n",
    "\n",
    "from multiprocessing import Pool\n",
    "with Pool(14) as p:\n",
    "    p.map(save, p_list)"
   ]
  },
  {
   "cell_type": "code",
   "execution_count": 7,
   "metadata": {},
   "outputs": [
    {
     "name": "stdout",
     "output_type": "stream",
     "text": [
      "start rendering 41 files...\n",
      "finished render ../log/test/Viz/K_8_cate_all_gt/48452.gif\n",
      "finished render ../log/test/Viz/K_8_cate_all_gt/101458.gif\n",
      "finished save ../log/test/Viz/K_8_cate_all_gt/48452.gif\n",
      "finished render ../log/test/Viz/K_8_cate_all_gt/10305.gif\n",
      "finished save ../log/test/Viz/K_8_cate_all_gt/101458.gif\n",
      "finished save ../log/test/Viz/K_8_cate_all_gt/10305.gif\n",
      "finished render ../log/test/Viz/K_8_cate_all_gt/102044.gif\n",
      "finished save ../log/test/Viz/K_8_cate_all_gt/102044.gif\n",
      "finished render ../log/test/Viz/K_8_cate_all_gt/102915.gif\n",
      "finished save ../log/test/Viz/K_8_cate_all_gt/102915.gif\n",
      "finished render ../log/test/Viz/K_8_cate_all_gt/102253.giffinished render ../log/test/Viz/K_8_cate_all_gt/10889.gif\n",
      "\n",
      "finished save ../log/test/Viz/K_8_cate_all_gt/102253.gif\n",
      "finished save ../log/test/Viz/K_8_cate_all_gt/10889.gif\n",
      "finished render ../log/test/Viz/K_8_cate_all_gt/102272.gif\n",
      "finished save ../log/test/Viz/K_8_cate_all_gt/102272.gif\n",
      "finished render ../log/test/Viz/K_8_cate_all_gt/100531.gif\n",
      "finished save ../log/test/Viz/K_8_cate_all_gt/100531.gif\n",
      "finished render ../log/test/Viz/K_8_cate_all_gt/100141.gif\n",
      "finished save ../log/test/Viz/K_8_cate_all_gt/100141.gif\n",
      "finished render ../log/test/Viz/K_8_cate_all_gt/100839.gif\n",
      "finished save ../log/test/Viz/K_8_cate_all_gt/100839.gif\n",
      "finished render ../log/test/Viz/K_8_cate_all_gt/4427.gif\n",
      "finished save ../log/test/Viz/K_8_cate_all_gt/4427.gif\n",
      "finished render ../log/test/Viz/K_8_cate_all_gt/3574.gif\n",
      "finished save ../log/test/Viz/K_8_cate_all_gt/3574.gif\n",
      "finished render ../log/test/Viz/K_8_cate_all_gt/101365.gif\n",
      "finished save ../log/test/Viz/K_8_cate_all_gt/101365.gif\n",
      "finished render ../log/test/Viz/K_8_cate_all_gt/4566.gif\n",
      "finished save ../log/test/Viz/K_8_cate_all_gt/4566.gif\n",
      "finished render ../log/test/Viz/K_8_cate_all_gt/1646.gif\n",
      "finished save ../log/test/Viz/K_8_cate_all_gt/1646.gif\n",
      "finished render ../log/test/Viz/K_8_cate_all_gt/12248.gif\n",
      "finished save ../log/test/Viz/K_8_cate_all_gt/12248.gif\n",
      "finished render ../log/test/Viz/K_8_cate_all_gt/100513.gif\n",
      "finished save ../log/test/Viz/K_8_cate_all_gt/100513.gif\n",
      "finished render ../log/test/Viz/K_8_cate_all_gt/1741.gif\n",
      "finished save ../log/test/Viz/K_8_cate_all_gt/1741.gif\n",
      "finished render ../log/test/Viz/K_8_cate_all_gt/102905.gif\n",
      "finished save ../log/test/Viz/K_8_cate_all_gt/102905.gif\n",
      "finished render ../log/test/Viz/K_8_cate_all_gt/102187.gif\n",
      "finished save ../log/test/Viz/K_8_cate_all_gt/102187.gif\n",
      "finished render ../log/test/Viz/K_8_cate_all_gt/103050.gif\n",
      "finished save ../log/test/Viz/K_8_cate_all_gt/103050.gif\n",
      "finished render ../log/test/Viz/K_8_cate_all_gt/46334.gif\n",
      "finished save ../log/test/Viz/K_8_cate_all_gt/46334.gif\n",
      "finished render ../log/test/Viz/K_8_cate_all_gt/102352.gif\n",
      "finished render ../log/test/Viz/K_8_cate_all_gt/26545.gif\n",
      "finished save ../log/test/Viz/K_8_cate_all_gt/102352.gif\n",
      "finished save ../log/test/Viz/K_8_cate_all_gt/26545.gif\n",
      "finished render ../log/test/Viz/K_8_cate_all_gt/102400.gif\n",
      "finished save ../log/test/Viz/K_8_cate_all_gt/102400.gif\n",
      "finished render ../log/test/Viz/K_8_cate_all_gt/14306.gif\n",
      "finished save ../log/test/Viz/K_8_cate_all_gt/14306.gif\n",
      "finished render ../log/test/Viz/K_8_cate_all_gt/103100.gif\n",
      "finished render ../log/test/Viz/K_8_cate_all_gt/102568.gif\n",
      "finished save ../log/test/Viz/K_8_cate_all_gt/103100.gif\n",
      "finished save ../log/test/Viz/K_8_cate_all_gt/102568.gif\n",
      "finished render ../log/test/Viz/K_8_cate_all_gt/103380.gif\n",
      "finished save ../log/test/Viz/K_8_cate_all_gt/103380.gif\n",
      "finished render ../log/test/Viz/K_8_cate_all_gt/100731.gif\n",
      "finished save ../log/test/Viz/K_8_cate_all_gt/100731.gif\n",
      "finished render ../log/test/Viz/K_8_cate_all_gt/11888.gif\n",
      "finished render ../log/test/Viz/K_8_cate_all_gt/862.gif\n",
      "finished save ../log/test/Viz/K_8_cate_all_gt/11888.gif\n",
      "finished save ../log/test/Viz/K_8_cate_all_gt/862.gif\n",
      "finished render ../log/test/Viz/K_8_cate_all_gt/103146.gif\n",
      "finished save ../log/test/Viz/K_8_cate_all_gt/103146.gif\n",
      "finished render ../log/test/Viz/K_8_cate_all_gt/102738.gif\n",
      "finished save ../log/test/Viz/K_8_cate_all_gt/102738.gif\n",
      "finished render ../log/test/Viz/K_8_cate_all_gt/47645.gif\n",
      "finished render ../log/test/Viz/K_8_cate_all_gt/45776.gif\n",
      "finished save ../log/test/Viz/K_8_cate_all_gt/47645.gif\n",
      "finished save ../log/test/Viz/K_8_cate_all_gt/45776.gif\n",
      "finished render ../log/test/Viz/K_8_cate_all_gt/26657.gif\n",
      "finished save ../log/test/Viz/K_8_cate_all_gt/26657.gif\n",
      "finished render ../log/test/Viz/K_8_cate_all_gt/11818.gif\n",
      "finished save ../log/test/Viz/K_8_cate_all_gt/11818.gif\n",
      "finished render ../log/test/Viz/K_8_cate_all_gt/102892.gif\n",
      "finished save ../log/test/Viz/K_8_cate_all_gt/102892.gif\n",
      "finished render ../log/test/Viz/K_8_cate_all_gt/6222.gif\n",
      "finished save ../log/test/Viz/K_8_cate_all_gt/6222.gif\n"
     ]
    }
   ],
   "source": [
    "from save_viz_utils import viz_dir\n",
    "\n",
    "viz_dir(DST, DST_viz, max_viz=40, n_threads=4, n_frames=7)"
   ]
  },
  {
   "cell_type": "code",
   "execution_count": 8,
   "metadata": {},
   "outputs": [
    {
     "name": "stderr",
     "output_type": "stream",
     "text": [
      "/home/ray/anaconda3/envs/nap-gcc9/lib/python3.9/site-packages/networkx/drawing/nx_pylab.py:433: UserWarning: *c* argument looks like a single numeric RGB or RGBA sequence, which should be avoided as value-mapping will have precedence in case its length matches with *x* & *y*.  Please use the *color* keyword-argument or provide a 2D array with a single row if you intend to specify the same RGB or RGBA value for all points.\n",
      "  node_collection = ax.scatter(\n"
     ]
    }
   ],
   "source": [
    "G = pickle.load(open(osp.join(DST, \"100017.pkl\"), \"rb\"))\n",
    "viz_topo = viz_G_topology(G)\n",
    "imageio.imwrite(osp.join(\"debug.png\"), viz_topo)\n",
    "viz_list = viz_G(G, cam_dist=3.0, viz_frame_N=4, shape=(128, 128))\n",
    "imageio.mimsave(osp.join(\"debug.gif\"), viz_list, fps=10)"
   ]
  }
 ],
 "metadata": {
  "kernelspec": {
   "display_name": "flatwhite",
   "language": "python",
   "name": "python3"
  },
  "language_info": {
   "codemirror_mode": {
    "name": "ipython",
    "version": 3
   },
   "file_extension": ".py",
   "mimetype": "text/x-python",
   "name": "python",
   "nbconvert_exporter": "python",
   "pygments_lexer": "ipython3",
   "version": "3.9.18"
  },
  "orig_nbformat": 4
 },
 "nbformat": 4,
 "nbformat_minor": 2
}
